{
 "cells": [
  {
   "cell_type": "code",
   "execution_count": 12,
   "metadata": {
    "collapsed": true
   },
   "outputs": [],
   "source": [
    "import numpy as np\n",
    "import pandas as pd \n",
    "import matplotlib.pyplot as plt\n",
    "%matplotlib inline\n",
    "import seaborn as sns; sns.set()\n",
    "\n"
   ]
  },
  {
   "cell_type": "code",
   "execution_count": 13,
   "metadata": {
    "collapsed": true
   },
   "outputs": [],
   "source": [
    "train = pd.read_csv(\"C:\\\\Users\\\\dell\\\\Desktop\\\\bitcoin train.csv\", index_col=\"Date\")\n",
    "test = pd.read_csv(\"C:\\\\Users\\\\dell\\\\Desktop\\\\bitcoin test.csv\", index_col=\"Date\")"
   ]
  },
  {
   "cell_type": "code",
   "execution_count": 14,
   "metadata": {
    "collapsed": true
   },
   "outputs": [],
   "source": [
    "train = train[::-1]\n",
    "test = test[::-1]"
   ]
  },
  {
   "cell_type": "code",
   "execution_count": 15,
   "metadata": {},
   "outputs": [
    {
     "data": {
      "text/html": [
       "<div>\n",
       "<style scoped>\n",
       "    .dataframe tbody tr th:only-of-type {\n",
       "        vertical-align: middle;\n",
       "    }\n",
       "\n",
       "    .dataframe tbody tr th {\n",
       "        vertical-align: top;\n",
       "    }\n",
       "\n",
       "    .dataframe thead th {\n",
       "        text-align: right;\n",
       "    }\n",
       "</style>\n",
       "<table border=\"1\" class=\"dataframe\">\n",
       "  <thead>\n",
       "    <tr style=\"text-align: right;\">\n",
       "      <th></th>\n",
       "      <th>Open</th>\n",
       "      <th>High</th>\n",
       "      <th>Low</th>\n",
       "      <th>Close</th>\n",
       "      <th>Volume</th>\n",
       "      <th>Market Cap</th>\n",
       "    </tr>\n",
       "    <tr>\n",
       "      <th>Date</th>\n",
       "      <th></th>\n",
       "      <th></th>\n",
       "      <th></th>\n",
       "      <th></th>\n",
       "      <th></th>\n",
       "      <th></th>\n",
       "    </tr>\n",
       "  </thead>\n",
       "  <tbody>\n",
       "    <tr>\n",
       "      <th>Apr 28, 2013</th>\n",
       "      <td>135.30</td>\n",
       "      <td>135.98</td>\n",
       "      <td>132.10</td>\n",
       "      <td>134.21</td>\n",
       "      <td>-</td>\n",
       "      <td>1,500,520,000</td>\n",
       "    </tr>\n",
       "    <tr>\n",
       "      <th>Apr 29, 2013</th>\n",
       "      <td>134.44</td>\n",
       "      <td>147.49</td>\n",
       "      <td>134.00</td>\n",
       "      <td>144.54</td>\n",
       "      <td>-</td>\n",
       "      <td>1,491,160,000</td>\n",
       "    </tr>\n",
       "    <tr>\n",
       "      <th>Apr 30, 2013</th>\n",
       "      <td>144.00</td>\n",
       "      <td>146.93</td>\n",
       "      <td>134.05</td>\n",
       "      <td>139.00</td>\n",
       "      <td>-</td>\n",
       "      <td>1,597,780,000</td>\n",
       "    </tr>\n",
       "    <tr>\n",
       "      <th>May 01, 2013</th>\n",
       "      <td>139.00</td>\n",
       "      <td>139.89</td>\n",
       "      <td>107.72</td>\n",
       "      <td>116.99</td>\n",
       "      <td>-</td>\n",
       "      <td>1,542,820,000</td>\n",
       "    </tr>\n",
       "    <tr>\n",
       "      <th>May 02, 2013</th>\n",
       "      <td>116.38</td>\n",
       "      <td>125.60</td>\n",
       "      <td>92.28</td>\n",
       "      <td>105.21</td>\n",
       "      <td>-</td>\n",
       "      <td>1,292,190,000</td>\n",
       "    </tr>\n",
       "  </tbody>\n",
       "</table>\n",
       "</div>"
      ],
      "text/plain": [
       "                Open    High     Low   Close Volume     Market Cap\n",
       "Date                                                              \n",
       "Apr 28, 2013  135.30  135.98  132.10  134.21      -  1,500,520,000\n",
       "Apr 29, 2013  134.44  147.49  134.00  144.54      -  1,491,160,000\n",
       "Apr 30, 2013  144.00  146.93  134.05  139.00      -  1,597,780,000\n",
       "May 01, 2013  139.00  139.89  107.72  116.99      -  1,542,820,000\n",
       "May 02, 2013  116.38  125.60   92.28  105.21      -  1,292,190,000"
      ]
     },
     "execution_count": 15,
     "metadata": {},
     "output_type": "execute_result"
    }
   ],
   "source": [
    "train.head()"
   ]
  },
  {
   "cell_type": "code",
   "execution_count": 16,
   "metadata": {
    "collapsed": true
   },
   "outputs": [],
   "source": [
    "train = train['Close'].values.astype('float32')\n",
    "test = test['Close'].values.astype('float32')"
   ]
  },
  {
   "cell_type": "code",
   "execution_count": 17,
   "metadata": {
    "collapsed": true
   },
   "outputs": [],
   "source": [
    "from sklearn.preprocessing import StandardScaler\n",
    "train = train.reshape(-1, 1)\n",
    "test = test.reshape(-1, 1)\n",
    "\n",
    "scaler = StandardScaler()\n",
    "train_n = scaler.fit_transform(train)\n",
    "test_n = scaler.transform(test)\n"
   ]
  },
  {
   "cell_type": "code",
   "execution_count": 18,
   "metadata": {},
   "outputs": [
    {
     "name": "stdout",
     "output_type": "stream",
     "text": [
      "(1556, 1)\n",
      "(7, 1)\n"
     ]
    }
   ],
   "source": [
    "print(train_n.shape)\n",
    "print(test_n.shape)"
   ]
  },
  {
   "cell_type": "code",
   "execution_count": 19,
   "metadata": {
    "collapsed": true
   },
   "outputs": [],
   "source": [
    "def generator(data, lookback, delay, min_index, max_index, \n",
    "              shuffle=False, batch_size=128, step=1):\n",
    "    if max_index is None:\n",
    "        max_index = len(data) - delay - 1\n",
    "    i = min_index + lookback\n",
    "    while 1:\n",
    "        if shuffle:\n",
    "            rows = np.random.randint(min_index + lookback, max_index, size=batch_size)\n",
    "        else:\n",
    "            if i + batch_size >= max_index:\n",
    "                i = min_index + lookback\n",
    "                \n",
    "            rows = np.arange(i, min(i + batch_size, max_index))\n",
    "            i += len(rows)\n",
    "        samples = np.zeros((len(rows), lookback // step, data.shape[-1]))\n",
    "        targets = np.zeros((len(rows),))\n",
    "        for j, row in enumerate(rows):\n",
    "            indices = range(rows[j] - lookback, rows[j], step)\n",
    "            samples[j] = data[indices]\n",
    "            targets[j] = data[rows[j] + delay]\n",
    "        yield samples, targets"
   ]
  },
  {
   "cell_type": "code",
   "execution_count": 20,
   "metadata": {
    "collapsed": true
   },
   "outputs": [],
   "source": [
    "lookback = 24\n",
    "step = 1\n",
    "delay = 7\n",
    "batch_size = 128\n",
    "train_gen = generator(train_n, lookback=lookback, delay=delay,\n",
    "    min_index=0, max_index=1000, shuffle=True, step=step,\n",
    "batch_size=batch_size)\n",
    "val_gen = generator(train_n, lookback=lookback, delay=delay,\n",
    "    min_index=1001, max_index=None, step=step, batch_size=batch_size)\n",
    "test_gen = generator(test_n, lookback=lookback, delay=delay,\n",
    "    min_index=0, max_index=None, step=step, batch_size=batch_size)\n",
    "val_steps = (len(train_n) - 1001 - lookback) // batch_size\n",
    "test_steps = (len(test_n) - lookback) // batch_size"
   ]
  },
  {
   "cell_type": "code",
   "execution_count": 21,
   "metadata": {
    "collapsed": true
   },
   "outputs": [],
   "source": [
    "np.random.seed(7)"
   ]
  },
  {
   "cell_type": "code",
   "execution_count": 22,
   "metadata": {
    "collapsed": true
   },
   "outputs": [],
   "source": [
    "from keras.models import Sequential\n",
    "from keras import layers\n",
    "from keras.optimizers import RMSprop"
   ]
  },
  {
   "cell_type": "code",
   "execution_count": 23,
   "metadata": {},
   "outputs": [
    {
     "name": "stdout",
     "output_type": "stream",
     "text": [
      "_________________________________________________________________\n",
      "Layer (type)                 Output Shape              Param #   \n",
      "=================================================================\n",
      "gru_1 (GRU)                  (None, 32)                3264      \n",
      "_________________________________________________________________\n",
      "dense_1 (Dense)              (None, 1)                 33        \n",
      "=================================================================\n",
      "Total params: 3,297\n",
      "Trainable params: 3,297\n",
      "Non-trainable params: 0\n",
      "_________________________________________________________________\n"
     ]
    }
   ],
   "source": [
    "model = Sequential()\n",
    "model.add(layers.GRU(32,\n",
    "                     dropout=0.2,\n",
    "                     recurrent_dropout=0.2,\n",
    "                     input_shape=(None, train_n.shape[-1])))\n",
    "model.add(layers.Dense(1))\n",
    "model.compile(optimizer=RMSprop(), loss='mae')\n",
    "model.summary()\n"
   ]
  },
  {
   "cell_type": "code",
   "execution_count": 24,
   "metadata": {},
   "outputs": [
    {
     "name": "stdout",
     "output_type": "stream",
     "text": [
      "Epoch 1/20\n",
      "100/100 [==============================] - 6s 58ms/step - loss: 0.1803 - val_loss: 0.4318\n",
      "Epoch 2/20\n",
      "100/100 [==============================] - 2s 25ms/step - loss: 0.1546 - val_loss: 0.4326\n",
      "Epoch 3/20\n",
      "100/100 [==============================] - 2s 24ms/step - loss: 0.1511 - val_loss: 0.4016\n",
      "Epoch 4/20\n",
      "100/100 [==============================] - 3s 25ms/step - loss: 0.1532 - val_loss: 0.4151\n",
      "Epoch 5/20\n",
      "100/100 [==============================] - 2s 23ms/step - loss: 0.1502 - val_loss: 0.4255\n",
      "Epoch 6/20\n",
      "100/100 [==============================] - 2s 24ms/step - loss: 0.1516 - val_loss: 0.4575\n",
      "Epoch 7/20\n",
      "100/100 [==============================] - 2s 23ms/step - loss: 0.1475 - val_loss: 0.4730\n",
      "Epoch 8/20\n",
      "100/100 [==============================] - 3s 25ms/step - loss: 0.1467 - val_loss: 0.4678\n",
      "Epoch 9/20\n",
      "100/100 [==============================] - 2s 24ms/step - loss: 0.1410 - val_loss: 0.4382\n",
      "Epoch 10/20\n",
      "100/100 [==============================] - 2s 22ms/step - loss: 0.1321 - val_loss: 0.4525\n",
      "Epoch 11/20\n",
      "100/100 [==============================] - 3s 26ms/step - loss: 0.1256 - val_loss: 0.4675\n",
      "Epoch 12/20\n",
      "100/100 [==============================] - 3s 27ms/step - loss: 0.1187 - val_loss: 0.4614\n",
      "Epoch 13/20\n",
      "100/100 [==============================] - 3s 28ms/step - loss: 0.1159 - val_loss: 0.4606\n",
      "Epoch 14/20\n",
      "100/100 [==============================] - 3s 28ms/step - loss: 0.1132 - val_loss: 0.4556\n",
      "Epoch 15/20\n",
      "100/100 [==============================] - 3s 27ms/step - loss: 0.1131 - val_loss: 0.4831\n",
      "Epoch 16/20\n",
      "100/100 [==============================] - 3s 27ms/step - loss: 0.1086 - val_loss: 0.4830\n",
      "Epoch 17/20\n",
      "100/100 [==============================] - 3s 26ms/step - loss: 0.1104 - val_loss: 0.4999\n",
      "Epoch 18/20\n",
      "100/100 [==============================] - 2s 24ms/step - loss: 0.1082 - val_loss: 0.5038\n",
      "Epoch 19/20\n",
      "100/100 [==============================] - 3s 28ms/step - loss: 0.1051 - val_loss: 0.5130\n",
      "Epoch 20/20\n",
      "100/100 [==============================] - 3s 28ms/step - loss: 0.1062 - val_loss: 0.5207\n"
     ]
    }
   ],
   "source": [
    "history = model.fit_generator(train_gen,\n",
    "                              steps_per_epoch=100,\n",
    "                              epochs=20,\n",
    "                              validation_data=val_gen,\n",
    "                              validation_steps=val_steps)"
   ]
  },
  {
   "cell_type": "code",
   "execution_count": 25,
   "metadata": {},
   "outputs": [
    {
     "data": {
      "text/plain": [
       "<matplotlib.legend.Legend at 0x227f6088358>"
      ]
     },
     "execution_count": 25,
     "metadata": {},
     "output_type": "execute_result"
    },
    {
     "data": {
      "image/png": "[encoded data removed]",
      "text/plain": [
       "<matplotlib.figure.Figure at 0x227f4d91128>"
      ]
     },
     "metadata": {},
     "output_type": "display_data"
    }
   ],
   "source": [
    "loss = history.history['loss']\n",
    "val_loss = history.history['val_loss']\n",
    "epochs = range(len(loss))\n",
    "plt.figure()\n",
    "plt.plot(epochs, loss, 'blue', label='train loss')\n",
    "plt.plot(epochs, val_loss, 'orange', label='validation loss')\n",
    "plt.title('Training and validation loss')\n",
    "plt.legend()"
   ]
  },
  {
   "cell_type": "code",
   "execution_count": 26,
   "metadata": {
    "collapsed": true
   },
   "outputs": [],
   "source": [
    "train_re = train_n.reshape(-1,1,1)\n",
    "pred = model.predict(train_re)"
   ]
  },
  {
   "cell_type": "code",
   "execution_count": 27,
   "metadata": {
    "collapsed": true
   },
   "outputs": [],
   "source": [
    "pred = scaler.inverse_transform(pred)"
   ]
  },
  {
   "cell_type": "code",
   "execution_count": 31,
   "metadata": {},
   "outputs": [
    {
     "data": {
      "text/plain": [
       "Text(0.5,1,'Forecasting Results')"
      ]
     },
     "execution_count": 31,
     "metadata": {},
     "output_type": "execute_result"
    },
    {
     "data": {
      "image/png": "[encoded data removed]",
      "text/plain": [
       "<matplotlib.figure.Figure at 0x227f6033278>"
      ]
     },
     "metadata": {},
     "output_type": "display_data"
    }
   ],
   "source": [
    "plt.plot(range(len(train_re)), train, label='actual')\n",
    "plt.plot(range(len(train_re)), pred, label='our_model_forecast')\n",
    "plt.legend()\n",
    "\n",
    "plt.title(\"Forecasting Results\")"
   ]
  },
  {
   "cell_type": "code",
   "execution_count": null,
   "metadata": {
    "collapsed": true
   },
   "outputs": [],
   "source": []
  }
 ],
 "metadata": {
  "kernelspec": {
   "display_name": "Python 3",
   "language": "python",
   "name": "python3"
  },
  "language_info": {
   "codemirror_mode": {
    "name": "ipython",
    "version": 3
   },
   "file_extension": ".py",
   "mimetype": "text/x-python",
   "name": "python",
   "nbconvert_exporter": "python",
   "pygments_lexer": "ipython3",
   "version": "3.6.3"
  }
 },
 "nbformat": 4,
 "nbformat_minor": 2
}
